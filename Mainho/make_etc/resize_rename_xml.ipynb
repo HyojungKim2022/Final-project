{
 "cells": [
  {
   "cell_type": "code",
   "execution_count": 78,
   "id": "940b20ff",
   "metadata": {
    "ExecuteTime": {
     "end_time": "2023-06-26T03:00:50.783394Z",
     "start_time": "2023-06-26T03:00:50.768687Z"
    },
    "scrolled": true
   },
   "outputs": [
    {
     "data": {
      "text/plain": [
       "{'마켓오리얼브라우니말차12개입': '65621',\n",
       " '롯데)제크찐치즈칩54G': '50098',\n",
       " '토하토)크레용신찬20G': '30152',\n",
       " '오리온)예감32G': '45219',\n",
       " '크라운)꽃게랑불짬뽕맛70G': '30064',\n",
       " '롯데)치토스후라이드_양념치킨맛80G': '30166',\n",
       " '크라운)콘칩(군옥수수)70G': '50117',\n",
       " '농심자갈치90G': '50062',\n",
       " '롯데)꼬깔콘매콤달콤72G': '30120',\n",
       " '크라운)카라멜메이플콘74G': '20211',\n",
       " '농심칩포테토오리지날125G': '10178',\n",
       " '오리온)예감볶은양파맛32G': '45221',\n",
       " '농심오징어집83G': '10092',\n",
       " '농심포스틱84G': '30061',\n",
       " '꼬깔콘고소한맛72G': '10091',\n",
       " '오뚜기뿌셔뿌셔불고기90G': '30119',\n",
       " '오리온후레쉬베리딸기336G': '25679',\n",
       " '해태)딸기웨하스Original50G': '30086',\n",
       " '도리토스갈비천왕치킨맛172G': '50063',\n",
       " '롯데ABC초코쿠키152G': '15033',\n",
       " '오리온)고소미35G': '45222',\n",
       " '마켓오리얼브라우니12개입': '65629',\n",
       " '오리온)크런치케이준눈을감자': '65858',\n",
       " '농심꿀꽈배기90G': '30066',\n",
       " '오리온스윙칩볶음고추장60G': '50061',\n",
       " '해태)허니버터칩38G': '20164',\n",
       " '크라운)콘초66G': '10094',\n",
       " '농심조청유과96G': '90078',\n",
       " '농심인디안밥83G': '30140',\n",
       " '동서리츠샌드위치크래커치즈96G': '15046',\n",
       " '롯데제과)꼬깔콘고소한맛42G': '45227',\n",
       " '농심벌집핏자90G': '30060',\n",
       " '미가방유한회사)오레오씬즈바닐라무스84G': '15175',\n",
       " '농심매운새우깡90G': '10093',\n",
       " '롯데칙촉오리지날': '65723',\n",
       " '오리온오징어땅콩98G': '90072',\n",
       " '오리온)포카칩오리지널66G': '10210',\n",
       " '프링글스양파맛53G': '30292',\n",
       " '해태)맛동산90G': '10209',\n",
       " '오리온)예감치즈그라탕맛32G': '45220',\n",
       " '해태후렌치파이딸기256G': '35044',\n",
       " '롯데)빠다코코낫100G': '30099',\n",
       " '롯데)웨하스딸기맛50G': '30096',\n",
       " '롯데몽쉘카카오생크림케이크12봉': '65727',\n",
       " '크라운제과쿠크다스화이트에디션': '65719',\n",
       " '투데이)크리스프초코': '65890',\n",
       " '농심)고구마깡83G': '90073',\n",
       " '농심바나나킥75G': '10095',\n",
       " '해태)오사쯔60G': '20167',\n",
       " '프링글스오리지날53G': '30291'}"
      ]
     },
     "execution_count": 78,
     "metadata": {},
     "output_type": "execute_result"
    }
   ],
   "source": [
    "reversed_dict"
   ]
  },
  {
   "cell_type": "code",
   "execution_count": 1,
   "id": "0bc8ee72",
   "metadata": {
    "ExecuteTime": {
     "end_time": "2023-06-27T00:23:24.668117Z",
     "start_time": "2023-06-27T00:23:24.644984Z"
    }
   },
   "outputs": [],
   "source": [
    "import os"
   ]
  },
  {
   "cell_type": "code",
   "execution_count": 2,
   "id": "1a5fd484",
   "metadata": {
    "ExecuteTime": {
     "end_time": "2023-06-27T00:23:56.498244Z",
     "start_time": "2023-06-27T00:23:56.493193Z"
    }
   },
   "outputs": [],
   "source": [
    "file_list = os.listdir('./정리용_이미지')"
   ]
  },
  {
   "cell_type": "code",
   "execution_count": 3,
   "id": "de84145b",
   "metadata": {
    "ExecuteTime": {
     "end_time": "2023-06-27T00:24:02.880646Z",
     "start_time": "2023-06-27T00:24:02.860974Z"
    }
   },
   "outputs": [
    {
     "data": {
      "text/plain": [
       "51"
      ]
     },
     "execution_count": 3,
     "metadata": {},
     "output_type": "execute_result"
    }
   ],
   "source": [
    "len(file_list)"
   ]
  },
  {
   "cell_type": "code",
   "execution_count": 4,
   "id": "53080568",
   "metadata": {
    "ExecuteTime": {
     "end_time": "2023-06-27T00:24:13.664354Z",
     "start_time": "2023-06-27T00:24:13.655117Z"
    }
   },
   "outputs": [],
   "source": [
    "file_list.remove('.DS_Store')"
   ]
  },
  {
   "cell_type": "code",
   "execution_count": 6,
   "id": "72c43e95",
   "metadata": {
    "ExecuteTime": {
     "end_time": "2023-06-27T00:26:12.327984Z",
     "start_time": "2023-06-27T00:26:12.317810Z"
    }
   },
   "outputs": [
    {
     "data": {
      "text/plain": [
       "['65621_마켓오리얼브라우니말차12개입',\n",
       " '50098_롯데)제크찐치즈칩54G',\n",
       " '30152_토하토)크레용신찬20G']"
      ]
     },
     "execution_count": 6,
     "metadata": {},
     "output_type": "execute_result"
    }
   ],
   "source": [
    "file_list[:3]"
   ]
  },
  {
   "cell_type": "code",
   "execution_count": 7,
   "id": "35f3e04d",
   "metadata": {
    "ExecuteTime": {
     "end_time": "2023-06-27T00:27:09.509500Z",
     "start_time": "2023-06-27T00:27:09.495981Z"
    }
   },
   "outputs": [
    {
     "data": {
      "text/plain": [
       "'/Users/jominho/Downloads/상품 이미지/Training'"
      ]
     },
     "execution_count": 7,
     "metadata": {},
     "output_type": "execute_result"
    }
   ],
   "source": [
    "%pwd"
   ]
  },
  {
   "cell_type": "code",
   "execution_count": null,
   "id": "d1b1d786",
   "metadata": {},
   "outputs": [],
   "source": [
    "'../Validation/[라벨]과자/'"
   ]
  },
  {
   "cell_type": "code",
   "execution_count": 8,
   "id": "f4836f7b",
   "metadata": {
    "ExecuteTime": {
     "end_time": "2023-06-27T00:27:59.057701Z",
     "start_time": "2023-06-27T00:27:59.050970Z"
    }
   },
   "outputs": [],
   "source": [
    "val_folder_list = file_list"
   ]
  },
  {
   "cell_type": "code",
   "execution_count": 10,
   "id": "cf9e3c27",
   "metadata": {
    "ExecuteTime": {
     "end_time": "2023-06-27T00:28:21.134383Z",
     "start_time": "2023-06-27T00:28:21.125452Z"
    }
   },
   "outputs": [],
   "source": [
    "for i in range(len(file_list)):\n",
    "    val_folder_list[i] = '../Validation/[라벨]과자/' + file_list[i]"
   ]
  },
  {
   "cell_type": "code",
   "execution_count": 11,
   "id": "00731cfe",
   "metadata": {
    "ExecuteTime": {
     "end_time": "2023-06-27T00:28:24.768019Z",
     "start_time": "2023-06-27T00:28:24.754867Z"
    }
   },
   "outputs": [
    {
     "data": {
      "text/plain": [
       "['../Validation/[라벨]과자/65621_마켓오리얼브라우니말차12개입',\n",
       " '../Validation/[라벨]과자/50098_롯데)제크찐치즈칩54G',\n",
       " '../Validation/[라벨]과자/30152_토하토)크레용신찬20G']"
      ]
     },
     "execution_count": 11,
     "metadata": {},
     "output_type": "execute_result"
    }
   ],
   "source": [
    "val_folder_list[:3]"
   ]
  },
  {
   "cell_type": "code",
   "execution_count": null,
   "id": "13354bd5",
   "metadata": {},
   "outputs": [],
   "source": []
  },
  {
   "cell_type": "code",
   "execution_count": null,
   "id": "54db7705",
   "metadata": {},
   "outputs": [],
   "source": []
  },
  {
   "cell_type": "code",
   "execution_count": null,
   "id": "1e35d446",
   "metadata": {},
   "outputs": [],
   "source": []
  },
  {
   "cell_type": "code",
   "execution_count": null,
   "id": "dc47e8ee",
   "metadata": {},
   "outputs": [],
   "source": []
  },
  {
   "cell_type": "code",
   "execution_count": null,
   "id": "9f12d91a",
   "metadata": {},
   "outputs": [],
   "source": []
  },
  {
   "cell_type": "code",
   "execution_count": 154,
   "id": "7209b867",
   "metadata": {
    "ExecuteTime": {
     "end_time": "2023-06-26T04:54:00.693003Z",
     "start_time": "2023-06-26T04:54:00.677599Z"
    },
    "collapsed": true
   },
   "outputs": [
    {
     "data": {
      "text/plain": [
       "['65621_마켓오리얼브라우니말차12개입',\n",
       " '50098_롯데)제크찐치즈칩54G',\n",
       " '30152_토하토)크레용신찬20G',\n",
       " '45219_오리온)예감32G',\n",
       " '30064_크라운)꽃게랑불짬뽕맛70G',\n",
       " '30166_롯데)치토스후라이드_양념치킨맛80G',\n",
       " '.DS_Store',\n",
       " '50117_크라운)콘칩(군옥수수)70G',\n",
       " '50062_농심자갈치90G',\n",
       " '30120_롯데)꼬깔콘매콤달콤72G',\n",
       " '20211_크라운)카라멜메이플콘74G',\n",
       " '10178_농심칩포테토오리지날125G',\n",
       " '45221_오리온)예감볶은양파맛32G',\n",
       " '10092_농심오징어집83G',\n",
       " '30061_농심포스틱84G',\n",
       " '10091_꼬깔콘고소한맛72G',\n",
       " '30119_오뚜기뿌셔뿌셔불고기90G',\n",
       " '25679_오리온후레쉬베리딸기336G',\n",
       " '30086_해태)딸기웨하스Original50G',\n",
       " '50063_도리토스갈비천왕치킨맛172G',\n",
       " '15033_롯데ABC초코쿠키152G',\n",
       " '45222_오리온)고소미35G',\n",
       " '65629_마켓오리얼브라우니12개입',\n",
       " '65858_오리온)크런치케이준눈을감자',\n",
       " '30066_농심꿀꽈배기90G',\n",
       " '50061_오리온스윙칩볶음고추장60G',\n",
       " '20164_해태)허니버터칩38G',\n",
       " '10094_크라운)콘초66G',\n",
       " '90078_농심조청유과96G',\n",
       " '30140_농심인디안밥83G',\n",
       " '15046_동서리츠샌드위치크래커치즈96G',\n",
       " '45227_롯데제과)꼬깔콘고소한맛42G',\n",
       " '30060_농심벌집핏자90G',\n",
       " '15175_미가방유한회사)오레오씬즈바닐라무스84G',\n",
       " '10093_농심매운새우깡90G',\n",
       " '65723_롯데칙촉오리지날',\n",
       " '90072_오리온오징어땅콩98G',\n",
       " '10210_오리온)포카칩오리지널66G',\n",
       " '30292_프링글스양파맛53G',\n",
       " '10209_해태)맛동산90G',\n",
       " '45220_오리온)예감치즈그라탕맛32G',\n",
       " '35044_해태후렌치파이딸기256G',\n",
       " '30099_롯데)빠다코코낫100G',\n",
       " '30096_롯데)웨하스딸기맛50G',\n",
       " '65727_롯데몽쉘카카오생크림케이크12봉',\n",
       " '65719_크라운제과쿠크다스화이트에디션',\n",
       " '65890_투데이)크리스프초코',\n",
       " '90073_농심)고구마깡83G',\n",
       " '10095_농심바나나킥75G',\n",
       " '20167_해태)오사쯔60G',\n",
       " '30291_프링글스오리지날53G']"
      ]
     },
     "execution_count": 154,
     "metadata": {},
     "output_type": "execute_result"
    }
   ],
   "source": [
    "file_list"
   ]
  },
  {
   "cell_type": "code",
   "execution_count": 55,
   "id": "ae03b42e",
   "metadata": {
    "ExecuteTime": {
     "end_time": "2023-06-26T01:50:25.100263Z",
     "start_time": "2023-06-26T01:50:25.085965Z"
    },
    "collapsed": true
   },
   "outputs": [
    {
     "data": {
      "text/plain": [
       "{'65621': '마켓오리얼브라우니말차12개입',\n",
       " '50098': '롯데)제크찐치즈칩54G',\n",
       " '30152': '토하토)크레용신찬20G',\n",
       " '45219': '오리온)예감32G',\n",
       " '30064': '크라운)꽃게랑불짬뽕맛70G',\n",
       " '30166': '롯데)치토스후라이드_양념치킨맛80G',\n",
       " '50117': '크라운)콘칩(군옥수수)70G',\n",
       " '50062': '농심자갈치90G',\n",
       " '30120': '롯데)꼬깔콘매콤달콤72G',\n",
       " '20211': '크라운)카라멜메이플콘74G',\n",
       " '10178': '농심칩포테토오리지날125G',\n",
       " '45221': '오리온)예감볶은양파맛32G',\n",
       " '10092': '농심오징어집83G',\n",
       " '30061': '농심포스틱84G',\n",
       " '10091': '꼬깔콘고소한맛72G',\n",
       " '30119': '오뚜기뿌셔뿌셔불고기90G',\n",
       " '25679': '오리온후레쉬베리딸기336G',\n",
       " '30086': '해태)딸기웨하스Original50G',\n",
       " '50063': '도리토스갈비천왕치킨맛172G',\n",
       " '15033': '롯데ABC초코쿠키152G',\n",
       " '45222': '오리온)고소미35G',\n",
       " '65629': '마켓오리얼브라우니12개입',\n",
       " '65858': '오리온)크런치케이준눈을감자',\n",
       " '30066': '농심꿀꽈배기90G',\n",
       " '50061': '오리온스윙칩볶음고추장60G',\n",
       " '20164': '해태)허니버터칩38G',\n",
       " '10094': '크라운)콘초66G',\n",
       " '90078': '농심조청유과96G',\n",
       " '30140': '농심인디안밥83G',\n",
       " '15046': '동서리츠샌드위치크래커치즈96G',\n",
       " '45227': '롯데제과)꼬깔콘고소한맛42G',\n",
       " '30060': '농심벌집핏자90G',\n",
       " '15175': '미가방유한회사)오레오씬즈바닐라무스84G',\n",
       " '10093': '농심매운새우깡90G',\n",
       " '65723': '롯데칙촉오리지날',\n",
       " '90072': '오리온오징어땅콩98G',\n",
       " '10210': '오리온)포카칩오리지널66G',\n",
       " '30292': '프링글스양파맛53G',\n",
       " '10209': '해태)맛동산90G',\n",
       " '45220': '오리온)예감치즈그라탕맛32G',\n",
       " '35044': '해태후렌치파이딸기256G',\n",
       " '30099': '롯데)빠다코코낫100G',\n",
       " '30096': '롯데)웨하스딸기맛50G',\n",
       " '65727': '롯데몽쉘카카오생크림케이크12봉',\n",
       " '65719': '크라운제과쿠크다스화이트에디션',\n",
       " '65890': '투데이)크리스프초코',\n",
       " '90073': '농심)고구마깡83G',\n",
       " '10095': '농심바나나킥75G',\n",
       " '20167': '해태)오사쯔60G',\n",
       " '30291': '프링글스오리지날53G'}"
      ]
     },
     "execution_count": 55,
     "metadata": {},
     "output_type": "execute_result"
    }
   ],
   "source": [
    "name_dict"
   ]
  },
  {
   "cell_type": "code",
   "execution_count": null,
   "id": "98e4d319",
   "metadata": {},
   "outputs": [],
   "source": []
  },
  {
   "cell_type": "code",
   "execution_count": 12,
   "id": "ac1bfce2",
   "metadata": {
    "ExecuteTime": {
     "end_time": "2023-06-27T00:30:11.785479Z",
     "start_time": "2023-06-27T00:30:11.765335Z"
    }
   },
   "outputs": [],
   "source": [
    "import os\n",
    "import shutil\n",
    "import xml.etree.ElementTree as ET\n",
    "\n",
    "def replace_name_in_xml(xml_file_path):\n",
    "    # XML 파일 읽기\n",
    "    tree = ET.parse(xml_file_path)\n",
    "    root = tree.getroot()\n",
    "\n",
    "    # 모든 'name' 태그 찾기\n",
    "    name_tags = root.findall(\".//name\")\n",
    "\n",
    "    # 'name' 태그 값 변경\n",
    "    for name_tag in name_tags:\n",
    "        filename = os.path.basename(xml_file_path)\n",
    "        name = filename[:5]  # 파일명의 맨 앞 5자리 숫자로 변경\n",
    "        name_tag.text = name\n",
    "    \n",
    "    # 변경된 XML 파일 저장\n",
    "    tree.write(xml_file_path, encoding=\"utf-8\")\n",
    "\n",
    "def copy_and_modify_xml_files(input_dir, output_dir):\n",
    "    # 출력 디렉토리 생성\n",
    "    os.makedirs(output_dir, exist_ok=True)\n",
    "\n",
    "    # 입력 디렉토리의 XML 파일들 복사 및 수정\n",
    "    for filename in os.listdir(input_dir):\n",
    "        if filename.endswith(\".xml\"):\n",
    "            xml_file_path = os.path.join(input_dir, filename)\n",
    "            replace_name_in_xml(xml_file_path)\n",
    "            output_path = os.path.join(output_dir, filename)\n",
    "            shutil.copy(xml_file_path, output_path)\n"
   ]
  },
  {
   "cell_type": "code",
   "execution_count": 13,
   "id": "7d79d6bc",
   "metadata": {
    "ExecuteTime": {
     "end_time": "2023-06-27T00:30:29.712870Z",
     "start_time": "2023-06-27T00:30:28.993614Z"
    }
   },
   "outputs": [],
   "source": [
    "for i in val_folder_list:\n",
    "    copy_and_modify_xml_files(i, '../Validation/val_resize_label/')"
   ]
  },
  {
   "cell_type": "code",
   "execution_count": 14,
   "id": "d5c12256",
   "metadata": {
    "ExecuteTime": {
     "end_time": "2023-06-27T00:31:03.883570Z",
     "start_time": "2023-06-27T00:31:03.865296Z"
    }
   },
   "outputs": [],
   "source": [
    "import os\n",
    "import xml.etree.ElementTree as ET\n",
    "import shutil\n",
    "\n",
    "def modify_bounding_box(xml_folder, save_dir):\n",
    "    # 폴더 내의 XML 파일들 순회\n",
    "    for xml_file in os.listdir(xml_folder):\n",
    "        if xml_file.endswith('.xml'):\n",
    "            # XML 파일 경로\n",
    "            xml_path = os.path.join(xml_folder, xml_file)\n",
    "            \n",
    "            # XML 파일 로드\n",
    "            tree = ET.parse(xml_path)\n",
    "            root = tree.getroot()\n",
    "\n",
    "            # <size> 요소의 <width>와 <height> 수정\n",
    "            size_elem = root.findall('.//size')[0]\n",
    "            size_elem.find('width').text = '1000'\n",
    "            size_elem.find('height').text = '1000'\n",
    "\n",
    "            # <bndbox> 좌표 변경\n",
    "            for bbox in root.iter('bndbox'):\n",
    "                xmin = int(bbox.find('xmin').text)\n",
    "                ymin = int(bbox.find('ymin').text)\n",
    "                xmax = int(bbox.find('xmax').text)\n",
    "                ymax = int(bbox.find('ymax').text)\n",
    "\n",
    "                # 좌표 조정\n",
    "                xmin = int(xmin * (1000 / 2988))\n",
    "                ymin = int(ymin * (1000 / 2988))\n",
    "                xmax = int(xmax * (1000 / 2988))\n",
    "                ymax = int(ymax * (1000 / 2988))\n",
    "\n",
    "                # 조정된 좌표 반영\n",
    "                bbox.find('xmin').text = str(xmin)\n",
    "                bbox.find('ymin').text = str(ymin)\n",
    "                bbox.find('xmax').text = str(xmax)\n",
    "                bbox.find('ymax').text = str(ymax)\n",
    "\n",
    "            # 변경된 XML 파일 저장\n",
    "            save_path = os.path.join(save_dir, xml_file)\n",
    "            tree.write(save_path, encoding='utf-8')"
   ]
  },
  {
   "cell_type": "code",
   "execution_count": 15,
   "id": "adbe2f99",
   "metadata": {
    "ExecuteTime": {
     "end_time": "2023-06-27T00:31:55.702905Z",
     "start_time": "2023-06-27T00:31:55.266269Z"
    }
   },
   "outputs": [],
   "source": [
    "modify_bounding_box('../Validation/val_resize_label/', '../Validation/val_resize_rename_label/')"
   ]
  },
  {
   "cell_type": "code",
   "execution_count": null,
   "id": "0b96f582",
   "metadata": {},
   "outputs": [],
   "source": []
  }
 ],
 "metadata": {
  "kernelspec": {
   "display_name": "Python 3 (ipykernel)",
   "language": "python",
   "name": "python3"
  },
  "language_info": {
   "codemirror_mode": {
    "name": "ipython",
    "version": 3
   },
   "file_extension": ".py",
   "mimetype": "text/x-python",
   "name": "python",
   "nbconvert_exporter": "python",
   "pygments_lexer": "ipython3",
   "version": "3.9.13"
  },
  "toc": {
   "base_numbering": 1,
   "nav_menu": {},
   "number_sections": true,
   "sideBar": true,
   "skip_h1_title": false,
   "title_cell": "Table of Contents",
   "title_sidebar": "Contents",
   "toc_cell": false,
   "toc_position": {},
   "toc_section_display": true,
   "toc_window_display": false
  }
 },
 "nbformat": 4,
 "nbformat_minor": 5
}
