{
 "cells": [
  {
   "cell_type": "code",
   "execution_count": 2,
   "id": "cc2b80bf",
   "metadata": {
    "ExecuteTime": {
     "end_time": "2023-06-23T03:37:25.003379Z",
     "start_time": "2023-06-23T03:37:24.910689Z"
    }
   },
   "outputs": [],
   "source": [
    "from PIL import Image\n",
    "import os"
   ]
  },
  {
   "cell_type": "code",
   "execution_count": 2,
   "id": "f3c4cb7d",
   "metadata": {
    "ExecuteTime": {
     "end_time": "2023-06-23T02:26:14.095068Z",
     "start_time": "2023-06-23T02:26:14.082209Z"
    }
   },
   "outputs": [],
   "source": [
    "import os\n",
    "import shutil\n",
    "\n",
    "def copy_folders(source_dir, target_dir, folder_list):\n",
    "    for folder in folder_list:\n",
    "        source_folder_path = os.path.join(source_dir, folder)\n",
    "        target_folder_path = os.path.join(target_dir, folder)\n",
    "        shutil.copytree(source_folder_path, target_folder_path)"
   ]
  },
  {
   "cell_type": "code",
   "execution_count": 3,
   "id": "0409ef4c",
   "metadata": {
    "ExecuteTime": {
     "end_time": "2023-06-23T02:26:24.077428Z",
     "start_time": "2023-06-23T02:26:24.058309Z"
    }
   },
   "outputs": [
    {
     "data": {
      "text/plain": [
       "'/Users/jominho/Downloads/상품 이미지/Training'"
      ]
     },
     "execution_count": 3,
     "metadata": {},
     "output_type": "execute_result"
    }
   ],
   "source": [
    "%pwd"
   ]
  },
  {
   "cell_type": "code",
   "execution_count": 3,
   "id": "70e43d58",
   "metadata": {
    "ExecuteTime": {
     "end_time": "2023-06-23T03:37:26.776545Z",
     "start_time": "2023-06-23T03:37:26.766127Z"
    }
   },
   "outputs": [],
   "source": [
    "folder_list = os.listdir('./정리용_이미지')"
   ]
  },
  {
   "cell_type": "code",
   "execution_count": 4,
   "id": "79005eeb",
   "metadata": {
    "ExecuteTime": {
     "end_time": "2023-06-23T03:37:27.230028Z",
     "start_time": "2023-06-23T03:37:27.222752Z"
    }
   },
   "outputs": [],
   "source": [
    "folder_list.remove('.DS_Store')"
   ]
  },
  {
   "cell_type": "code",
   "execution_count": 5,
   "id": "20a9d659",
   "metadata": {
    "ExecuteTime": {
     "end_time": "2023-06-23T03:37:27.487827Z",
     "start_time": "2023-06-23T03:37:27.468304Z"
    }
   },
   "outputs": [
    {
     "data": {
      "text/plain": [
       "50"
      ]
     },
     "execution_count": 5,
     "metadata": {},
     "output_type": "execute_result"
    }
   ],
   "source": [
    "len(folder_list)"
   ]
  },
  {
   "cell_type": "code",
   "execution_count": 7,
   "id": "fa754ac8",
   "metadata": {
    "ExecuteTime": {
     "end_time": "2023-06-23T03:37:47.915073Z",
     "start_time": "2023-06-23T03:37:47.903388Z"
    }
   },
   "outputs": [
    {
     "data": {
      "text/plain": [
       "['65621_마켓오리얼브라우니말차12개입',\n",
       " '50098_롯데)제크찐치즈칩54G',\n",
       " '30152_토하토)크레용신찬20G']"
      ]
     },
     "execution_count": 7,
     "metadata": {},
     "output_type": "execute_result"
    }
   ],
   "source": [
    "folder_list[:3]"
   ]
  },
  {
   "cell_type": "code",
   "execution_count": null,
   "id": "697b4fa3",
   "metadata": {},
   "outputs": [],
   "source": []
  },
  {
   "cell_type": "code",
   "execution_count": 8,
   "id": "666ace74",
   "metadata": {
    "ExecuteTime": {
     "end_time": "2023-06-23T02:28:13.384747Z",
     "start_time": "2023-06-23T02:28:12.819588Z"
    }
   },
   "outputs": [],
   "source": [
    "# 사용 예시\n",
    "source_directory = './[라벨]과자4'\n",
    "target_directory = './정리용_라벨'\n",
    "\n",
    "copy_folders(source_directory, target_directory, folder_list)"
   ]
  },
  {
   "cell_type": "markdown",
   "id": "7e82803d",
   "metadata": {},
   "source": [
    "# 이미지 리사이즈"
   ]
  },
  {
   "cell_type": "code",
   "execution_count": 8,
   "id": "8b8190d7",
   "metadata": {
    "ExecuteTime": {
     "end_time": "2023-06-23T03:38:09.833837Z",
     "start_time": "2023-06-23T03:38:09.820316Z"
    }
   },
   "outputs": [],
   "source": [
    "def resize_image(input_image_path, output_image_path, size):\n",
    "    original_image = Image.open(input_image_path)\n",
    "    width, height = original_image.size\n",
    "    aspect_ratio = float(width) / float(height)\n",
    "    new_height = size[0]\n",
    "    new_width = int(aspect_ratio * new_height)\n",
    "    resized_image = original_image.resize((new_width, new_height))\n",
    "    resized_image.save(output_image_path)\n",
    "\n",
    "# 하위 폴더의 이미지들을 읽어들여 리사이즈하는 함수\n",
    "def resize_images_in_folder(folder_path, output_folder_path, size):\n",
    "    if not os.path.exists(output_folder_path):\n",
    "        os.makedirs(output_folder_path)\n",
    "\n",
    "    for filename in os.listdir(folder_path):\n",
    "        if filename.endswith(\".jpg\") or filename.endswith(\".png\"):\n",
    "            input_image_path = os.path.join(folder_path, filename)\n",
    "            output_image_path = os.path.join(output_folder_path, filename)\n",
    "            resize_image(input_image_path, output_image_path, size)"
   ]
  },
  {
   "cell_type": "code",
   "execution_count": 33,
   "id": "13334062",
   "metadata": {
    "ExecuteTime": {
     "end_time": "2023-06-23T03:41:50.339113Z",
     "start_time": "2023-06-23T03:41:50.329613Z"
    }
   },
   "outputs": [],
   "source": [
    "folder_path = os.listdir('./정리용_이미지')"
   ]
  },
  {
   "cell_type": "code",
   "execution_count": 34,
   "id": "7821643f",
   "metadata": {
    "ExecuteTime": {
     "end_time": "2023-06-23T03:41:50.452540Z",
     "start_time": "2023-06-23T03:41:50.441241Z"
    }
   },
   "outputs": [
    {
     "data": {
      "text/plain": [
       "51"
      ]
     },
     "execution_count": 34,
     "metadata": {},
     "output_type": "execute_result"
    }
   ],
   "source": [
    "len(folder_path)"
   ]
  },
  {
   "cell_type": "code",
   "execution_count": 35,
   "id": "b00fc1af",
   "metadata": {
    "ExecuteTime": {
     "end_time": "2023-06-23T03:41:50.586711Z",
     "start_time": "2023-06-23T03:41:50.576465Z"
    }
   },
   "outputs": [],
   "source": [
    "folder_path.remove('.DS_Store')"
   ]
  },
  {
   "cell_type": "code",
   "execution_count": 30,
   "id": "f3a4e486",
   "metadata": {
    "ExecuteTime": {
     "end_time": "2023-06-23T03:41:38.648153Z",
     "start_time": "2023-06-23T03:41:38.639064Z"
    },
    "collapsed": true
   },
   "outputs": [
    {
     "data": {
      "text/plain": [
       "['65621_마켓오리얼브라우니말차12개입',\n",
       " '50098_롯데)제크찐치즈칩54G',\n",
       " '30152_토하토)크레용신찬20G',\n",
       " '45219_오리온)예감32G',\n",
       " '30064_크라운)꽃게랑불짬뽕맛70G',\n",
       " '30166_롯데)치토스후라이드_양념치킨맛80G',\n",
       " '50117_크라운)콘칩(군옥수수)70G',\n",
       " '50062_농심자갈치90G',\n",
       " '30120_롯데)꼬깔콘매콤달콤72G',\n",
       " '20211_크라운)카라멜메이플콘74G',\n",
       " '10178_농심칩포테토오리지날125G',\n",
       " '45221_오리온)예감볶은양파맛32G',\n",
       " '10092_농심오징어집83G',\n",
       " '30061_농심포스틱84G',\n",
       " '10091_꼬깔콘고소한맛72G',\n",
       " '30119_오뚜기뿌셔뿌셔불고기90G',\n",
       " '25679_오리온후레쉬베리딸기336G',\n",
       " '30086_해태)딸기웨하스Original50G',\n",
       " '50063_도리토스갈비천왕치킨맛172G',\n",
       " '15033_롯데ABC초코쿠키152G',\n",
       " '45222_오리온)고소미35G',\n",
       " '65629_마켓오리얼브라우니12개입',\n",
       " '65858_오리온)크런치케이준눈을감자',\n",
       " '30066_농심꿀꽈배기90G',\n",
       " '50061_오리온스윙칩볶음고추장60G',\n",
       " '20164_해태)허니버터칩38G',\n",
       " '10094_크라운)콘초66G',\n",
       " '90078_농심조청유과96G',\n",
       " '30140_농심인디안밥83G',\n",
       " '15046_동서리츠샌드위치크래커치즈96G',\n",
       " '45227_롯데제과)꼬깔콘고소한맛42G',\n",
       " '30060_농심벌집핏자90G',\n",
       " '15175_미가방유한회사)오레오씬즈바닐라무스84G',\n",
       " '10093_농심매운새우깡90G',\n",
       " '65723_롯데칙촉오리지날',\n",
       " '90072_오리온오징어땅콩98G',\n",
       " '10210_오리온)포카칩오리지널66G',\n",
       " '30292_프링글스양파맛53G',\n",
       " '10209_해태)맛동산90G',\n",
       " '45220_오리온)예감치즈그라탕맛32G',\n",
       " '35044_해태후렌치파이딸기256G',\n",
       " '30099_롯데)빠다코코낫100G',\n",
       " '30096_롯데)웨하스딸기맛50G',\n",
       " '65727_롯데몽쉘카카오생크림케이크12봉',\n",
       " '65719_크라운제과쿠크다스화이트에디션',\n",
       " '65890_투데이)크리스프초코',\n",
       " '90073_농심)고구마깡83G',\n",
       " '10095_농심바나나킥75G',\n",
       " '20167_해태)오사쯔60G',\n",
       " '30291_프링글스오리지날53G']"
      ]
     },
     "execution_count": 30,
     "metadata": {},
     "output_type": "execute_result"
    }
   ],
   "source": [
    "folder_path"
   ]
  },
  {
   "cell_type": "code",
   "execution_count": 9,
   "id": "14d1a324",
   "metadata": {
    "ExecuteTime": {
     "end_time": "2023-06-23T03:39:12.377705Z",
     "start_time": "2023-06-23T03:39:12.367416Z"
    }
   },
   "outputs": [
    {
     "data": {
      "text/plain": [
       "'/Users/jominho/Downloads/상품 이미지/Training'"
      ]
     },
     "execution_count": 9,
     "metadata": {},
     "output_type": "execute_result"
    }
   ],
   "source": [
    "%pwd"
   ]
  },
  {
   "cell_type": "code",
   "execution_count": null,
   "id": "46a9111f",
   "metadata": {},
   "outputs": [],
   "source": [
    "/Users/jominho/Downloads/상품 이미지/Validation"
   ]
  },
  {
   "cell_type": "code",
   "execution_count": 36,
   "id": "9316bdbd",
   "metadata": {
    "ExecuteTime": {
     "end_time": "2023-06-23T03:41:52.891628Z",
     "start_time": "2023-06-23T03:41:52.883077Z"
    }
   },
   "outputs": [],
   "source": [
    "for i in range(50):\n",
    "    folder_path[i] = '/Users/jominho/Downloads/상품 이미지/Validation/[원천]과자/' + folder_path[i]"
   ]
  },
  {
   "cell_type": "code",
   "execution_count": 25,
   "id": "58f76423",
   "metadata": {
    "ExecuteTime": {
     "end_time": "2023-06-23T03:41:20.286871Z",
     "start_time": "2023-06-23T03:41:20.274212Z"
    }
   },
   "outputs": [
    {
     "data": {
      "text/plain": [
       "['/Users/jominho/Downloads/상품 이미지/Validation/65621_마켓오리얼브라우니말차12개입',\n",
       " '/Users/jominho/Downloads/상품 이미지/Validation/50098_롯데)제크찐치즈칩54G',\n",
       " '/Users/jominho/Downloads/상품 이미지/Validation/30152_토하토)크레용신찬20G']"
      ]
     },
     "execution_count": 25,
     "metadata": {},
     "output_type": "execute_result"
    }
   ],
   "source": [
    "folder_path[:3]"
   ]
  },
  {
   "cell_type": "code",
   "execution_count": 37,
   "id": "04393b69",
   "metadata": {
    "ExecuteTime": {
     "end_time": "2023-06-23T03:43:30.950497Z",
     "start_time": "2023-06-23T03:41:54.060006Z"
    }
   },
   "outputs": [],
   "source": [
    "for i in range(len(folder_path)):\n",
    "    resize_images_in_folder(folder_path[i], './resize_val_img_all', (1000, 1000))"
   ]
  },
  {
   "cell_type": "markdown",
   "id": "97c44f50",
   "metadata": {},
   "source": [
    "## 리스트 작성"
   ]
  },
  {
   "cell_type": "code",
   "execution_count": 32,
   "id": "e4614abb",
   "metadata": {
    "ExecuteTime": {
     "end_time": "2023-06-23T02:51:14.036698Z",
     "start_time": "2023-06-23T02:51:14.026810Z"
    }
   },
   "outputs": [],
   "source": [
    "with open('./snack_list.txt', 'w') as file:\n",
    "        for item in folder_path:\n",
    "            file.write(str(item) + '\\n')"
   ]
  },
  {
   "cell_type": "markdown",
   "id": "82583e73",
   "metadata": {},
   "source": [
    "# 라벨 복사"
   ]
  },
  {
   "cell_type": "code",
   "execution_count": 33,
   "id": "76c2acb2",
   "metadata": {
    "ExecuteTime": {
     "end_time": "2023-06-23T02:52:26.205486Z",
     "start_time": "2023-06-23T02:52:26.192311Z"
    }
   },
   "outputs": [],
   "source": [
    "import os\n",
    "import shutil\n",
    "\n",
    "def copy_files(source_folder, destination_folder):\n",
    "    for root, dirs, files in os.walk(source_folder):\n",
    "        for file in files:\n",
    "            source_path = os.path.join(root, file)\n",
    "            destination_path = os.path.join(destination_folder, file)\n",
    "            shutil.copy2(source_path, destination_path)"
   ]
  },
  {
   "cell_type": "code",
   "execution_count": null,
   "id": "4a42de03",
   "metadata": {},
   "outputs": [],
   "source": [
    "# 사용 예시\n",
    "\n",
    "destination_folder = '/path/to/destination/folder'\n",
    "\n",
    "copy_files(source_folder, destination_folder)"
   ]
  },
  {
   "cell_type": "code",
   "execution_count": 37,
   "id": "18515bc8",
   "metadata": {
    "ExecuteTime": {
     "end_time": "2023-06-23T02:53:18.779478Z",
     "start_time": "2023-06-23T02:53:18.767962Z"
    }
   },
   "outputs": [],
   "source": [
    "label_folder_path = folder_path"
   ]
  },
  {
   "cell_type": "code",
   "execution_count": 38,
   "id": "00b84756",
   "metadata": {
    "ExecuteTime": {
     "end_time": "2023-06-23T02:53:19.171183Z",
     "start_time": "2023-06-23T02:53:19.165073Z"
    }
   },
   "outputs": [],
   "source": [
    "for i in range(50):\n",
    "    label_folder_path[i] = './정리용_라벨/' + folder_path[i]"
   ]
  },
  {
   "cell_type": "code",
   "execution_count": 39,
   "id": "7a73dd48",
   "metadata": {
    "ExecuteTime": {
     "end_time": "2023-06-23T02:53:21.801605Z",
     "start_time": "2023-06-23T02:53:21.782329Z"
    },
    "collapsed": true
   },
   "outputs": [
    {
     "data": {
      "text/plain": [
       "['./정리용_라벨/65621_마켓오리얼브라우니말차12개입',\n",
       " './정리용_라벨/50098_롯데)제크찐치즈칩54G',\n",
       " './정리용_라벨/30152_토하토)크레용신찬20G',\n",
       " './정리용_라벨/45219_오리온)예감32G',\n",
       " './정리용_라벨/30064_크라운)꽃게랑불짬뽕맛70G',\n",
       " './정리용_라벨/30166_롯데)치토스후라이드_양념치킨맛80G',\n",
       " './정리용_라벨/50117_크라운)콘칩(군옥수수)70G',\n",
       " './정리용_라벨/50062_농심자갈치90G',\n",
       " './정리용_라벨/30120_롯데)꼬깔콘매콤달콤72G',\n",
       " './정리용_라벨/20211_크라운)카라멜메이플콘74G',\n",
       " './정리용_라벨/10178_농심칩포테토오리지날125G',\n",
       " './정리용_라벨/45221_오리온)예감볶은양파맛32G',\n",
       " './정리용_라벨/10092_농심오징어집83G',\n",
       " './정리용_라벨/30061_농심포스틱84G',\n",
       " './정리용_라벨/10091_꼬깔콘고소한맛72G',\n",
       " './정리용_라벨/30119_오뚜기뿌셔뿌셔불고기90G',\n",
       " './정리용_라벨/25679_오리온후레쉬베리딸기336G',\n",
       " './정리용_라벨/30086_해태)딸기웨하스Original50G',\n",
       " './정리용_라벨/50063_도리토스갈비천왕치킨맛172G',\n",
       " './정리용_라벨/15033_롯데ABC초코쿠키152G',\n",
       " './정리용_라벨/45222_오리온)고소미35G',\n",
       " './정리용_라벨/65629_마켓오리얼브라우니12개입',\n",
       " './정리용_라벨/65858_오리온)크런치케이준눈을감자',\n",
       " './정리용_라벨/30066_농심꿀꽈배기90G',\n",
       " './정리용_라벨/50061_오리온스윙칩볶음고추장60G',\n",
       " './정리용_라벨/20164_해태)허니버터칩38G',\n",
       " './정리용_라벨/10094_크라운)콘초66G',\n",
       " './정리용_라벨/90078_농심조청유과96G',\n",
       " './정리용_라벨/30140_농심인디안밥83G',\n",
       " './정리용_라벨/15046_동서리츠샌드위치크래커치즈96G',\n",
       " './정리용_라벨/45227_롯데제과)꼬깔콘고소한맛42G',\n",
       " './정리용_라벨/30060_농심벌집핏자90G',\n",
       " './정리용_라벨/15175_미가방유한회사)오레오씬즈바닐라무스84G',\n",
       " './정리용_라벨/10093_농심매운새우깡90G',\n",
       " './정리용_라벨/65723_롯데칙촉오리지날',\n",
       " './정리용_라벨/90072_오리온오징어땅콩98G',\n",
       " './정리용_라벨/10210_오리온)포카칩오리지널66G',\n",
       " './정리용_라벨/30292_프링글스양파맛53G',\n",
       " './정리용_라벨/10209_해태)맛동산90G',\n",
       " './정리용_라벨/45220_오리온)예감치즈그라탕맛32G',\n",
       " './정리용_라벨/35044_해태후렌치파이딸기256G',\n",
       " './정리용_라벨/30099_롯데)빠다코코낫100G',\n",
       " './정리용_라벨/30096_롯데)웨하스딸기맛50G',\n",
       " './정리용_라벨/65727_롯데몽쉘카카오생크림케이크12봉',\n",
       " './정리용_라벨/65719_크라운제과쿠크다스화이트에디션',\n",
       " './정리용_라벨/65890_투데이)크리스프초코',\n",
       " './정리용_라벨/90073_농심)고구마깡83G',\n",
       " './정리용_라벨/10095_농심바나나킥75G',\n",
       " './정리용_라벨/20167_해태)오사쯔60G',\n",
       " './정리용_라벨/30291_프링글스오리지날53G']"
      ]
     },
     "execution_count": 39,
     "metadata": {},
     "output_type": "execute_result"
    }
   ],
   "source": [
    "label_folder_path"
   ]
  },
  {
   "cell_type": "code",
   "execution_count": 40,
   "id": "ae0af47c",
   "metadata": {
    "ExecuteTime": {
     "end_time": "2023-06-23T02:53:53.308952Z",
     "start_time": "2023-06-23T02:53:53.301376Z"
    }
   },
   "outputs": [],
   "source": [
    "destination_folder = './label_all'"
   ]
  },
  {
   "cell_type": "code",
   "execution_count": 41,
   "id": "0a1cb1ac",
   "metadata": {
    "ExecuteTime": {
     "end_time": "2023-06-23T02:54:26.326223Z",
     "start_time": "2023-06-23T02:54:23.426776Z"
    }
   },
   "outputs": [],
   "source": [
    "for i in range(len(label_folder_path)):\n",
    "    copy_files(label_folder_path[i], destination_folder)"
   ]
  },
  {
   "cell_type": "markdown",
   "id": "46ea12ae",
   "metadata": {
    "ExecuteTime": {
     "end_time": "2023-06-23T02:55:15.419739Z",
     "start_time": "2023-06-23T02:55:15.412130Z"
    }
   },
   "source": [
    "# 3 리사이즈 레이블"
   ]
  },
  {
   "cell_type": "code",
   "execution_count": 43,
   "id": "b3c5ec8a",
   "metadata": {
    "ExecuteTime": {
     "end_time": "2023-06-23T02:55:27.797750Z",
     "start_time": "2023-06-23T02:55:27.780457Z"
    }
   },
   "outputs": [],
   "source": [
    "import os\n",
    "import xml.etree.ElementTree as ET\n",
    "import shutil\n",
    "\n",
    "def modify_bounding_box(xml_folder, save_dir):\n",
    "    # 폴더 내의 XML 파일들 순회\n",
    "    for xml_file in os.listdir(xml_folder):\n",
    "        if xml_file.endswith('.xml'):\n",
    "            # XML 파일 경로\n",
    "            xml_path = os.path.join(xml_folder, xml_file)\n",
    "            \n",
    "            # XML 파일 로드\n",
    "            tree = ET.parse(xml_path)\n",
    "            root = tree.getroot()\n",
    "\n",
    "            # <size> 요소의 <width>와 <height> 수정\n",
    "            size_elem = root.findall('.//size')[0]\n",
    "            size_elem.find('width').text = '1000'\n",
    "            size_elem.find('height').text = '1000'\n",
    "\n",
    "            # <bndbox> 좌표 변경\n",
    "            for bbox in root.iter('bndbox'):\n",
    "                xmin = int(bbox.find('xmin').text)\n",
    "                ymin = int(bbox.find('ymin').text)\n",
    "                xmax = int(bbox.find('xmax').text)\n",
    "                ymax = int(bbox.find('ymax').text)\n",
    "\n",
    "                # 좌표 조정\n",
    "                xmin = int(xmin * (1000 / 2988))\n",
    "                ymin = int(ymin * (1000 / 2988))\n",
    "                xmax = int(xmax * (1000 / 2988))\n",
    "                ymax = int(ymax * (1000 / 2988))\n",
    "\n",
    "                # 조정된 좌표 반영\n",
    "                bbox.find('xmin').text = str(xmin)\n",
    "                bbox.find('ymin').text = str(ymin)\n",
    "                bbox.find('xmax').text = str(xmax)\n",
    "                bbox.find('ymax').text = str(ymax)\n",
    "\n",
    "            # 변경된 XML 파일 저장\n",
    "            save_path = os.path.join(save_dir, xml_file)\n",
    "            tree.write(save_path)"
   ]
  },
  {
   "cell_type": "code",
   "execution_count": 44,
   "id": "215352f9",
   "metadata": {
    "ExecuteTime": {
     "end_time": "2023-06-23T02:55:37.151778Z",
     "start_time": "2023-06-23T02:55:37.143857Z"
    }
   },
   "outputs": [],
   "source": [
    "original_width = 2998\n",
    "original_height = 2998\n",
    "target_width = 1000\n",
    "target_height = 1000\n",
    "\n",
    "scale_x = target_width / original_width\n",
    "scale_y = target_height / original_height"
   ]
  },
  {
   "cell_type": "code",
   "execution_count": 45,
   "id": "25f09e46",
   "metadata": {
    "ExecuteTime": {
     "end_time": "2023-06-23T02:56:13.460486Z",
     "start_time": "2023-06-23T02:56:10.480297Z"
    }
   },
   "outputs": [],
   "source": [
    "modify_bounding_box('./label_all', './resize_label_all')"
   ]
  },
  {
   "cell_type": "code",
   "execution_count": null,
   "id": "4034027a",
   "metadata": {},
   "outputs": [],
   "source": []
  }
 ],
 "metadata": {
  "kernelspec": {
   "display_name": "Python 3 (ipykernel)",
   "language": "python",
   "name": "python3"
  },
  "language_info": {
   "codemirror_mode": {
    "name": "ipython",
    "version": 3
   },
   "file_extension": ".py",
   "mimetype": "text/x-python",
   "name": "python",
   "nbconvert_exporter": "python",
   "pygments_lexer": "ipython3",
   "version": "3.9.13"
  },
  "toc": {
   "base_numbering": 1,
   "nav_menu": {},
   "number_sections": true,
   "sideBar": true,
   "skip_h1_title": false,
   "title_cell": "Table of Contents",
   "title_sidebar": "Contents",
   "toc_cell": false,
   "toc_position": {},
   "toc_section_display": true,
   "toc_window_display": false
  }
 },
 "nbformat": 4,
 "nbformat_minor": 5
}
