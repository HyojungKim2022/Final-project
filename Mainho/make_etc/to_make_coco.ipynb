{
 "cells": [
  {
   "cell_type": "code",
   "execution_count": 1,
   "id": "1f50ef79",
   "metadata": {
    "ExecuteTime": {
     "end_time": "2023-06-27T00:20:46.000428Z",
     "start_time": "2023-06-27T00:20:45.979262Z"
    }
   },
   "outputs": [],
   "source": [
    "import os"
   ]
  },
  {
   "cell_type": "code",
   "execution_count": 2,
   "id": "36356fd1",
   "metadata": {
    "ExecuteTime": {
     "end_time": "2023-06-27T00:20:46.561153Z",
     "start_time": "2023-06-27T00:20:46.540682Z"
    }
   },
   "outputs": [
    {
     "data": {
      "text/plain": [
       "'/Users/jominho/Downloads/상품 이미지/Training'"
      ]
     },
     "execution_count": 2,
     "metadata": {},
     "output_type": "execute_result"
    }
   ],
   "source": [
    "%pwd"
   ]
  },
  {
   "cell_type": "code",
   "execution_count": 3,
   "id": "53c91a7f",
   "metadata": {
    "ExecuteTime": {
     "end_time": "2023-06-27T00:20:47.405145Z",
     "start_time": "2023-06-27T00:20:47.356131Z"
    }
   },
   "outputs": [],
   "source": [
    "file_list = os.listdir('./snack-data-to50/train/resize_rename_label_all')"
   ]
  },
  {
   "cell_type": "code",
   "execution_count": 4,
   "id": "a9000376",
   "metadata": {
    "ExecuteTime": {
     "end_time": "2023-06-27T00:20:47.853657Z",
     "start_time": "2023-06-27T00:20:47.843970Z"
    }
   },
   "outputs": [
    {
     "data": {
      "text/plain": [
       "11400"
      ]
     },
     "execution_count": 4,
     "metadata": {},
     "output_type": "execute_result"
    }
   ],
   "source": [
    "len(file_list)"
   ]
  },
  {
   "cell_type": "code",
   "execution_count": 5,
   "id": "7fa8a03c",
   "metadata": {
    "ExecuteTime": {
     "end_time": "2023-06-27T00:20:48.533929Z",
     "start_time": "2023-06-27T00:20:48.522554Z"
    }
   },
   "outputs": [
    {
     "data": {
      "text/plain": [
       "['10094_30_s_24.xml', '45220_60_m_24_meta.xml', '90072_30_s_10_meta.xml']"
      ]
     },
     "execution_count": 5,
     "metadata": {},
     "output_type": "execute_result"
    }
   ],
   "source": [
    "file_list[:3]"
   ]
  },
  {
   "cell_type": "markdown",
   "id": "86d07458",
   "metadata": {},
   "source": [
    "#### meta 정보 제외\n",
    "- meta 정보는 칼로리 같은 정보를 가지고 있어 불필요, 따라서 리스트에서 제외 하기 위한 작업"
   ]
  },
  {
   "cell_type": "code",
   "execution_count": 6,
   "id": "edeeae0d",
   "metadata": {
    "ExecuteTime": {
     "end_time": "2023-06-27T00:20:50.969844Z",
     "start_time": "2023-06-27T00:20:50.949890Z"
    }
   },
   "outputs": [
    {
     "data": {
      "text/plain": [
       "5700"
      ]
     },
     "execution_count": 6,
     "metadata": {},
     "output_type": "execute_result"
    }
   ],
   "source": [
    "not_meta_list = []\n",
    "for i in file_list:\n",
    "    if i.find('meta') == -1: # 'meta'를 가지고 있지 않으면 -1을 반환하므로 그것들을 리스트업.\n",
    "        not_meta_list.append(i)\n",
    "\n",
    "len(not_meta_list)"
   ]
  },
  {
   "cell_type": "code",
   "execution_count": 7,
   "id": "2499ff9a",
   "metadata": {
    "ExecuteTime": {
     "end_time": "2023-06-27T00:20:51.397470Z",
     "start_time": "2023-06-27T00:20:51.387990Z"
    }
   },
   "outputs": [],
   "source": [
    "data_list = not_meta_list"
   ]
  },
  {
   "cell_type": "code",
   "execution_count": 8,
   "id": "a9cd7c7c",
   "metadata": {
    "ExecuteTime": {
     "end_time": "2023-06-27T00:20:52.562503Z",
     "start_time": "2023-06-27T00:20:52.543016Z"
    }
   },
   "outputs": [
    {
     "data": {
      "text/plain": [
       "(5700, '65890_60_m_11.xml')"
      ]
     },
     "execution_count": 8,
     "metadata": {},
     "output_type": "execute_result"
    }
   ],
   "source": [
    "len(data_list),data_list[1]"
   ]
  },
  {
   "cell_type": "markdown",
   "id": "c33a69d8",
   "metadata": {},
   "source": [
    "#### train, test, val txt 파일 만들기"
   ]
  },
  {
   "cell_type": "code",
   "execution_count": 9,
   "id": "127bb785",
   "metadata": {
    "ExecuteTime": {
     "end_time": "2023-06-27T00:20:53.856109Z",
     "start_time": "2023-06-27T00:20:53.824465Z"
    }
   },
   "outputs": [
    {
     "data": {
      "text/plain": [
       "5700"
      ]
     },
     "execution_count": 9,
     "metadata": {},
     "output_type": "execute_result"
    }
   ],
   "source": [
    "img_list = os.listdir('./snack-data-to50/train/resize_img_all')\n",
    "\n",
    "len(img_list) # 총 img 데이터의 갯수 확인, meta를 제거한 xml 파일의 갯수와 같음을 확인할 수 있음."
   ]
  },
  {
   "cell_type": "code",
   "execution_count": 10,
   "id": "ffd0c2fc",
   "metadata": {
    "ExecuteTime": {
     "end_time": "2023-06-27T00:20:55.173903Z",
     "start_time": "2023-06-27T00:20:55.158467Z"
    }
   },
   "outputs": [
    {
     "data": {
      "text/plain": [
       "'50063_60_m_1.jpg'"
      ]
     },
     "execution_count": 10,
     "metadata": {},
     "output_type": "execute_result"
    }
   ],
   "source": [
    "img_list[1]"
   ]
  },
  {
   "cell_type": "code",
   "execution_count": 16,
   "id": "2a003441",
   "metadata": {
    "ExecuteTime": {
     "end_time": "2023-06-26T12:09:51.846110Z",
     "start_time": "2023-06-26T12:09:49.642987Z"
    }
   },
   "outputs": [],
   "source": [
    "from sklearn.model_selection import train_test_split\n",
    "\n",
    "train_list, test_list = train_test_split(img_list, test_size = 0.15, random_state=42)\n",
    "# test_list, val_list = train_test_split(test_list, test_size = 0.5, random_state=42)"
   ]
  },
  {
   "cell_type": "code",
   "execution_count": 17,
   "id": "83f01a11",
   "metadata": {
    "ExecuteTime": {
     "end_time": "2023-06-26T12:09:54.105294Z",
     "start_time": "2023-06-26T12:09:54.095792Z"
    }
   },
   "outputs": [
    {
     "data": {
      "text/plain": [
       "(4845, 855)"
      ]
     },
     "execution_count": 17,
     "metadata": {},
     "output_type": "execute_result"
    }
   ],
   "source": [
    "len(train_list), len(test_list)"
   ]
  },
  {
   "cell_type": "code",
   "execution_count": 18,
   "id": "6de80ed0",
   "metadata": {
    "ExecuteTime": {
     "end_time": "2023-06-26T12:09:54.467854Z",
     "start_time": "2023-06-26T12:09:54.456635Z"
    }
   },
   "outputs": [
    {
     "data": {
      "text/plain": [
       "'45227_60_m_2.jpg'"
      ]
     },
     "execution_count": 18,
     "metadata": {},
     "output_type": "execute_result"
    }
   ],
   "source": [
    "train_list[1]"
   ]
  },
  {
   "cell_type": "code",
   "execution_count": 14,
   "id": "676f285b",
   "metadata": {
    "ExecuteTime": {
     "end_time": "2023-06-27T00:38:55.025431Z",
     "start_time": "2023-06-27T00:38:55.017550Z"
    }
   },
   "outputs": [],
   "source": [
    "val_list = os.listdir('../snack-data-to50/val/val_resize_rename_label/')"
   ]
  },
  {
   "cell_type": "code",
   "execution_count": 17,
   "id": "50de789d",
   "metadata": {
    "ExecuteTime": {
     "end_time": "2023-06-27T00:39:47.594154Z",
     "start_time": "2023-06-27T00:39:47.582439Z"
    }
   },
   "outputs": [
    {
     "data": {
      "text/plain": [
       "1500"
      ]
     },
     "execution_count": 17,
     "metadata": {},
     "output_type": "execute_result"
    }
   ],
   "source": [
    "len(val_list)"
   ]
  },
  {
   "cell_type": "code",
   "execution_count": 18,
   "id": "e29ea03b",
   "metadata": {
    "ExecuteTime": {
     "end_time": "2023-06-27T00:39:52.287896Z",
     "start_time": "2023-06-27T00:39:52.271686Z"
    }
   },
   "outputs": [
    {
     "data": {
      "text/plain": [
       "750"
      ]
     },
     "execution_count": 18,
     "metadata": {},
     "output_type": "execute_result"
    }
   ],
   "source": [
    "not_meta_val_list = []\n",
    "for i in val_list:\n",
    "    if i.find('meta') == -1: # 'meta'를 가지고 있지 않으면 -1을 반환하므로 그것들을 리스트업.\n",
    "        not_meta_val_list.append(i)\n",
    "\n",
    "len(not_meta_val_list)"
   ]
  },
  {
   "cell_type": "code",
   "execution_count": 11,
   "id": "bec4c013",
   "metadata": {
    "ExecuteTime": {
     "end_time": "2023-06-27T00:21:38.445854Z",
     "start_time": "2023-06-27T00:21:38.426538Z"
    }
   },
   "outputs": [],
   "source": [
    "with open('./snack-data-to50/train.txt','w',encoding='UTF-8') as f:\n",
    "    for name in img_list:\n",
    "        name = name.split('.')[0]\n",
    "        f.write(name+'\\n')"
   ]
  },
  {
   "cell_type": "code",
   "execution_count": 21,
   "id": "9a77d922",
   "metadata": {
    "ExecuteTime": {
     "end_time": "2023-06-26T12:10:07.283957Z",
     "start_time": "2023-06-26T12:10:07.271178Z"
    }
   },
   "outputs": [],
   "source": [
    "with open('./snack-data-to50/test.txt','w',encoding='UTF-8') as f:\n",
    "    for name in test_list:\n",
    "        name = name.split('.')[0]\n",
    "        f.write(name+'\\n')"
   ]
  },
  {
   "cell_type": "code",
   "execution_count": 20,
   "id": "586c2176",
   "metadata": {
    "ExecuteTime": {
     "end_time": "2023-06-27T00:40:13.776035Z",
     "start_time": "2023-06-27T00:40:13.764576Z"
    }
   },
   "outputs": [],
   "source": [
    "with open('../snack-data-to50/val.txt','w',encoding='UTF-8') as f:\n",
    "    for name in not_meta_val_list:\n",
    "        name = name.split('.')[0]\n",
    "        f.write(name+'\\n')"
   ]
  },
  {
   "cell_type": "markdown",
   "id": "0b950cd6",
   "metadata": {},
   "source": [
    "### MS-COCO 포맷으로 변환하기\n",
    "- voc 포맷을 coco 포맷으로 변환하는 패키지\n",
    "- https://github.com/yukkyo/voc2coco.git 의 How to use 참고"
   ]
  },
  {
   "cell_type": "code",
   "execution_count": 22,
   "id": "e21dac15",
   "metadata": {
    "ExecuteTime": {
     "end_time": "2023-06-26T12:10:45.238463Z",
     "start_time": "2023-06-26T12:10:43.069783Z"
    }
   },
   "outputs": [
    {
     "name": "stdout",
     "output_type": "stream",
     "text": [
      "Cloning into 'voc2coco'...\n",
      "remote: Enumerating objects: 436, done.\u001b[K\n",
      "remote: Counting objects: 100% (28/28), done.\u001b[K\n",
      "remote: Compressing objects: 100% (17/17), done.\u001b[K\n",
      "remote: Total 436 (delta 19), reused 11 (delta 11), pack-reused 408\u001b[K\n",
      "Receiving objects: 100% (436/436), 214.06 KiB | 14.27 MiB/s, done.\n",
      "Resolving deltas: 100% (390/390), done.\n"
     ]
    }
   ],
   "source": [
    "!git clone https://github.com/yukkyo/voc2coco.git/"
   ]
  },
  {
   "cell_type": "code",
   "execution_count": 12,
   "id": "94ba44bd",
   "metadata": {
    "ExecuteTime": {
     "end_time": "2023-06-27T00:21:46.296903Z",
     "start_time": "2023-06-27T00:21:46.282980Z"
    }
   },
   "outputs": [
    {
     "name": "stdout",
     "output_type": "stream",
     "text": [
      "/Users/jominho/Downloads/상품 이미지/Training/voc2coco\n"
     ]
    }
   ],
   "source": [
    "%cd ./voc2coco"
   ]
  },
  {
   "cell_type": "code",
   "execution_count": 24,
   "id": "38d432a6",
   "metadata": {
    "ExecuteTime": {
     "end_time": "2023-06-26T12:11:33.171760Z",
     "start_time": "2023-06-26T12:11:32.190676Z"
    }
   },
   "outputs": [],
   "source": [
    "# 텍스트 파일 생성:\n",
    "!grep -ERoh '<name>[^<]*</name>' ../snack-data-to50/train/resize_rename_label_all/ | sed -e 's/<name>//g' -e 's/<\\/name>//g' | sort | uniq > ../snack-data-to50/train/labels.txt\n",
    "# 파일 경로 위치 확인 할 것"
   ]
  },
  {
   "cell_type": "code",
   "execution_count": null,
   "id": "194e1a92",
   "metadata": {},
   "outputs": [],
   "source": [
    "%pwd"
   ]
  },
  {
   "cell_type": "code",
   "execution_count": 13,
   "id": "ffd00375",
   "metadata": {
    "ExecuteTime": {
     "end_time": "2023-06-27T00:21:50.922201Z",
     "start_time": "2023-06-27T00:21:50.106867Z"
    }
   },
   "outputs": [
    {
     "name": "stdout",
     "output_type": "stream",
     "text": [
      "Start converting !\n",
      "100%|████████████████████████████████████| 5700/5700 [00:00<00:00, 10885.15it/s]\n"
     ]
    }
   ],
   "source": [
    "!python voc2coco.py --ann_dir ../snack-data-to50/train/resize_rename_label_all/ \\\n",
    "--ann_ids ../snack-data-to50/train.txt \\\n",
    "--labels ../snack-data-to50/labels.txt \\\n",
    "--output ../snack-data-to50/train.json \\\n",
    "--ext xml"
   ]
  },
  {
   "cell_type": "code",
   "execution_count": 26,
   "id": "2d494fc3",
   "metadata": {
    "ExecuteTime": {
     "end_time": "2023-06-26T12:11:49.961540Z",
     "start_time": "2023-06-26T12:11:49.663808Z"
    }
   },
   "outputs": [
    {
     "name": "stdout",
     "output_type": "stream",
     "text": [
      "Start converting !\n",
      "100%|██████████████████████████████████████| 855/855 [00:00<00:00, 18952.77it/s]\n"
     ]
    }
   ],
   "source": [
    "!python voc2coco.py --ann_dir ../snack-data-to50/train/resize_rename_label_all \\\n",
    "--ann_ids ../snack-data-to50/test.txt \\\n",
    "--labels ../snack-data-to50/labels.txt \\\n",
    "--output ../snack-data-to50/test.json \\\n",
    "--ext xml"
   ]
  },
  {
   "cell_type": "code",
   "execution_count": 21,
   "id": "51e3bd0f",
   "metadata": {
    "ExecuteTime": {
     "end_time": "2023-06-27T00:40:46.412586Z",
     "start_time": "2023-06-27T00:40:46.092912Z"
    }
   },
   "outputs": [
    {
     "name": "stdout",
     "output_type": "stream",
     "text": [
      "Start converting !\n",
      "100%|██████████████████████████████████████| 750/750 [00:00<00:00, 12228.01it/s]\n"
     ]
    }
   ],
   "source": [
    "!python voc2coco.py --ann_dir ../snack-data-to50/val/val_resize_rename_label \\\n",
    "--ann_ids ../snack-data-to50/val.txt \\\n",
    "--labels ../snack-data-to50/labels.txt \\\n",
    "--output ../snack-data-to50/val.json \\\n",
    "--ext xml"
   ]
  },
  {
   "cell_type": "code",
   "execution_count": null,
   "id": "724aa72a",
   "metadata": {},
   "outputs": [],
   "source": []
  }
 ],
 "metadata": {
  "kernelspec": {
   "display_name": "Python 3 (ipykernel)",
   "language": "python",
   "name": "python3"
  },
  "language_info": {
   "codemirror_mode": {
    "name": "ipython",
    "version": 3
   },
   "file_extension": ".py",
   "mimetype": "text/x-python",
   "name": "python",
   "nbconvert_exporter": "python",
   "pygments_lexer": "ipython3",
   "version": "3.9.13"
  },
  "toc": {
   "base_numbering": 1,
   "nav_menu": {},
   "number_sections": true,
   "sideBar": true,
   "skip_h1_title": false,
   "title_cell": "Table of Contents",
   "title_sidebar": "Contents",
   "toc_cell": false,
   "toc_position": {},
   "toc_section_display": true,
   "toc_window_display": false
  }
 },
 "nbformat": 4,
 "nbformat_minor": 5
}
