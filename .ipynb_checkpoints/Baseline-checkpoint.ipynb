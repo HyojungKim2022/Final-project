{
 "cells": [
  {
   "cell_type": "code",
   "execution_count": 19,
   "id": "00801f15",
   "metadata": {},
   "outputs": [],
   "source": [
    "import glob"
   ]
  },
  {
   "cell_type": "code",
   "execution_count": 20,
   "id": "bd377b69",
   "metadata": {},
   "outputs": [],
   "source": [
    "import xml.etree.ElementTree as ET"
   ]
  },
  {
   "cell_type": "code",
   "execution_count": 21,
   "id": "f100b01a",
   "metadata": {},
   "outputs": [],
   "source": [
    "root_dir = 'D:/coding/dataset/sample/'"
   ]
  },
  {
   "cell_type": "code",
   "execution_count": 22,
   "id": "829089d9",
   "metadata": {},
   "outputs": [],
   "source": [
    "annot_dir = '라벨링데이터/'"
   ]
  },
  {
   "cell_type": "code",
   "execution_count": 23,
   "id": "5f5d5f8c",
   "metadata": {},
   "outputs": [],
   "source": [
    "src_dir = '원천데이터/'"
   ]
  },
  {
   "cell_type": "code",
   "execution_count": null,
   "id": "b5e28c7f",
   "metadata": {},
   "outputs": [],
   "source": [
    "total_paths = glob"
   ]
  },
  {
   "cell_type": "code",
   "execution_count": 45,
   "id": "cf36d4aa",
   "metadata": {},
   "outputs": [],
   "source": [
    "annot_paths = glob.glob(root_dir + annot_dir + '*/*_meta.xml')"
   ]
  },
  {
   "cell_type": "code",
   "execution_count": 46,
   "id": "51d61a69",
   "metadata": {},
   "outputs": [],
   "source": [
    "src_paths = glob.glob(root_dir + src_dir + '*/*.jpg')"
   ]
  },
  {
   "cell_type": "code",
   "execution_count": 48,
   "id": "94c1f3c7",
   "metadata": {},
   "outputs": [
    {
     "data": {
      "text/plain": [
       "(798, 798)"
      ]
     },
     "execution_count": 48,
     "metadata": {},
     "output_type": "execute_result"
    }
   ],
   "source": [
    "len(src_paths), len(annot_paths)"
   ]
  },
  {
   "cell_type": "code",
   "execution_count": null,
   "id": "73ef3f15",
   "metadata": {},
   "outputs": [],
   "source": []
  },
  {
   "cell_type": "code",
   "execution_count": 85,
   "id": "166e8328",
   "metadata": {},
   "outputs": [
    {
     "data": {
      "text/plain": [
       "'D:/coding/dataset/sample/라벨링데이터\\\\10060_해태포키블루베리41G\\\\10060_0_m_10_meta.xml'"
      ]
     },
     "execution_count": 85,
     "metadata": {},
     "output_type": "execute_result"
    }
   ],
   "source": [
    "xml_sample"
   ]
  },
  {
   "cell_type": "code",
   "execution_count": 49,
   "id": "24c2b91e",
   "metadata": {},
   "outputs": [],
   "source": [
    "xml_sample = annot_paths[0]"
   ]
  },
  {
   "cell_type": "code",
   "execution_count": 101,
   "id": "b993e7fa",
   "metadata": {},
   "outputs": [],
   "source": [
    "def get_annot(annot_path):\n",
    "    tree = ET.parse(annot_path)\n",
    "    annot = tree.find('./annotation')\n",
    "    objs = annot.findall('./object')\n",
    "\n",
    "    res = []\n",
    "    for obj in objs:\n",
    "        label = obj.find('name').text\n",
    "        bbox = obj.find('bndbox')\n",
    "        res.append({label : [point.text for point in bndboxes]})\n",
    "\n",
    "    return res"
   ]
  },
  {
   "cell_type": "code",
   "execution_count": 102,
   "id": "76fbd8ee",
   "metadata": {},
   "outputs": [
    {
     "data": {
      "text/plain": [
       "[{'해태포키블루베리41G': ['267', '481', '1277', '2507']},\n",
       " {'해태포키블루베리41G': ['267', '481', '1277', '2507']}]"
      ]
     },
     "execution_count": 102,
     "metadata": {},
     "output_type": "execute_result"
    }
   ],
   "source": [
    "get_annot(xml_sample)"
   ]
  },
  {
   "cell_type": "code",
   "execution_count": null,
   "id": "0c7b016a",
   "metadata": {},
   "outputs": [],
   "source": []
  },
  {
   "cell_type": "code",
   "execution_count": null,
   "id": "e8754b2a",
   "metadata": {},
   "outputs": [],
   "source": []
  }
 ],
 "metadata": {
  "kernelspec": {
   "display_name": "Python 3 (ipykernel)",
   "language": "python",
   "name": "python3"
  },
  "language_info": {
   "codemirror_mode": {
    "name": "ipython",
    "version": 3
   },
   "file_extension": ".py",
   "mimetype": "text/x-python",
   "name": "python",
   "nbconvert_exporter": "python",
   "pygments_lexer": "ipython3",
   "version": "3.10.9"
  }
 },
 "nbformat": 4,
 "nbformat_minor": 5
}
